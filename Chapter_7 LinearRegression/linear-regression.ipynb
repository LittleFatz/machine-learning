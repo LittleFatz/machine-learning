{
 "cells": [
  {
   "cell_type": "code",
   "execution_count": 16,
   "metadata": {},
   "outputs": [
    {
     "name": "stdout",
     "output_type": "stream",
     "text": [
      "[[0.00310499]\n",
      " [0.99450247]]\n"
     ]
    }
   ],
   "source": [
    "import numpy as np\n",
    "\n",
    "def load_data(file_path):\n",
    "    '''导入数据\n",
    "    input:  file_path(string):训练数据\n",
    "    output: feature(mat):特征\n",
    "            label(mat):标签\n",
    "    '''\n",
    "    f = open(file_path)\n",
    "    feature = []\n",
    "    label = []\n",
    "    for line in f.readlines():\n",
    "        feature_tmp = []\n",
    "        lines = line.strip().split(\"\\t\")\n",
    "        feature_tmp.append(1)  # x0\n",
    "        for i in range(len(lines) - 1):\n",
    "            feature_tmp.append(float(lines[i]))\n",
    "        feature.append(feature_tmp)\n",
    "        label.append(float(lines[-1]))\n",
    "    f.close()\n",
    "    return np.mat(feature), np.mat(label).T\n",
    "\n",
    "\n",
    "feature, label = load_data(\"data.txt\")\n",
    "\n",
    "def least_square(feature, label):\n",
    "    return (feature.T * feature).I * feature.T * label\n",
    "\n",
    "w = least_square(feature, label)\n",
    "\n",
    "print (w)"
   ]
  },
  {
   "cell_type": "code",
   "execution_count": 35,
   "metadata": {},
   "outputs": [
    {
     "name": "stdout",
     "output_type": "stream",
     "text": [
      "iter_count:  0 the loss: 0.19043976837165247\n",
      "iter_count:  1 the loss: 0.47604938478489767\n",
      "iter_count:  2 the loss: 0.8760488125805125\n",
      "iter_count:  3 the loss: 1.4096580150992737\n",
      "iter_count:  4 the loss: 2.0960969556819578\n",
      "iter_count:  5 the loss: 2.954585597669342\n",
      "iter_count:  6 the loss: 4.0043439044022024\n",
      "iter_count:  7 the loss: 5.264591839221316\n",
      "iter_count:  8 the loss: 6.75454936546746\n",
      "iter_count:  9 the loss: 8.493436446481411\n",
      "[2.965 4.345]\n"
     ]
    }
   ],
   "source": [
    "import numpy as np\n",
    "\n",
    "\n",
    "def gen_data(sample_num=100):\n",
    "    x1 = np.linspace(0, 9, sample_num)\n",
    "    x2 = np.linspace(4, 13, sample_num)\n",
    "    x =  np.concatenate(([x1], [x2])).T\n",
    "    y = np.dot(x, np.array([3, 4]).T)\n",
    "    return x, y\n",
    "\n",
    "    \n",
    "def bgd(feature, label, learning_rate=0.01, max_iter_count=10000):\n",
    "    sample_count, dim = feature.shape\n",
    "    y = label.flatten()\n",
    "    w = np.ones((dim,), dtype=np.float32)\n",
    "    loss = 10\n",
    "    iter_count = 0\n",
    "    while loss > 0.0001 and iter_count < max_iter_count:\n",
    "        loss = 0 \n",
    "        error = np.zeros((dim,), dtype=np.float32)\n",
    "        for i in range(sample_count):\n",
    "            predict = np.dot(feature[i], w.T)\n",
    "            for j in range(dim):\n",
    "                error[j] += (predict - label[i]) * feature[i][j]\n",
    "        \n",
    "        for j in range(dim):\n",
    "            w[j] = w[j] - learning_rate * error[j] / sample_count\n",
    "            \n",
    "        for i in range(sample_count):\n",
    "            predict = np.dot(feature[i], w.T)\n",
    "            temp = np.power((predict - label[i]), 2) / sample_count\n",
    "            loss += temp\n",
    "            print(\"iter_count: \", iter_count, \"the loss:\", loss)\n",
    "            iter_count += 1\n",
    "            \n",
    "        return w\n",
    "            \n",
    "    \n",
    "    \n",
    "    \n",
    "\n",
    "    \n",
    "feature, label = gen_data(10)\n",
    "w = bgd(feature, label)\n",
    "print (w)\n",
    "\n",
    "\n",
    "    "
   ]
  },
  {
   "cell_type": "code",
   "execution_count": null,
   "metadata": {},
   "outputs": [],
   "source": []
  }
 ],
 "metadata": {
  "kernelspec": {
   "display_name": "Python 3",
   "language": "python",
   "name": "python3"
  },
  "language_info": {
   "codemirror_mode": {
    "name": "ipython",
    "version": 3
   },
   "file_extension": ".py",
   "mimetype": "text/x-python",
   "name": "python",
   "nbconvert_exporter": "python",
   "pygments_lexer": "ipython3",
   "version": "3.6.6"
  }
 },
 "nbformat": 4,
 "nbformat_minor": 2
}
